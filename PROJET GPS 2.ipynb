{
 "cells": [
  {
   "cell_type": "markdown",
   "id": "finnish-polish",
   "metadata": {},
   "source": [
    "### Importation de librairies"
   ]
  },
  {
   "cell_type": "code",
   "execution_count": 1,
   "id": "expected-drill",
   "metadata": {},
   "outputs": [],
   "source": [
    "#Importation de librairies\n",
    "import math\n",
    "import numpy as np\n",
    "import pandas as pd\n",
    "import seaborn as sns\n",
    "import matplotlib.pyplot as plt\n",
    "\n",
    "#Importation de fichiers contenant des fonctions\n",
    "import dataSource as ds\n",
    "import dataVisualization as dv"
   ]
  },
  {
   "cell_type": "markdown",
   "id": "operating-vegetable",
   "metadata": {},
   "source": [
    "### Lecture du fichier"
   ]
  },
  {
   "cell_type": "code",
   "execution_count": 48,
   "id": "centered-bernard",
   "metadata": {},
   "outputs": [],
   "source": [
    "# Lecture du fichier csv : 1,000,000 premières lignes\n",
    "df = pd.read_csv(\"../DataGpsDas.csv\", nrows=1000000)"
   ]
  },
  {
   "cell_type": "markdown",
   "id": "operational-aruba",
   "metadata": {},
   "source": [
    "### Trie des données"
   ]
  },
  {
   "cell_type": "code",
   "execution_count": 49,
   "id": "historical-judges",
   "metadata": {},
   "outputs": [
    {
     "data": {
      "text/html": [
       "<div>\n",
       "<style scoped>\n",
       "    .dataframe tbody tr th:only-of-type {\n",
       "        vertical-align: middle;\n",
       "    }\n",
       "\n",
       "    .dataframe tbody tr th {\n",
       "        vertical-align: top;\n",
       "    }\n",
       "\n",
       "    .dataframe thead th {\n",
       "        text-align: right;\n",
       "    }\n",
       "</style>\n",
       "<table border=\"1\" class=\"dataframe\">\n",
       "  <thead>\n",
       "    <tr style=\"text-align: right;\">\n",
       "      <th></th>\n",
       "      <th>Device</th>\n",
       "      <th>Trip</th>\n",
       "      <th>Time</th>\n",
       "      <th>GpsTime</th>\n",
       "      <th>GpsWeek</th>\n",
       "      <th>GpsHeading</th>\n",
       "      <th>GpsSpeed</th>\n",
       "      <th>Latitude</th>\n",
       "      <th>Longitude</th>\n",
       "      <th>Altitude</th>\n",
       "      <th>NumberOfSats</th>\n",
       "      <th>Differential</th>\n",
       "      <th>FixMode</th>\n",
       "      <th>Pdop</th>\n",
       "      <th>GpsBytes</th>\n",
       "      <th>UtcTime</th>\n",
       "      <th>UtcWeek</th>\n",
       "    </tr>\n",
       "  </thead>\n",
       "  <tbody>\n",
       "    <tr>\n",
       "      <th>120957</th>\n",
       "      <td>10204</td>\n",
       "      <td>268</td>\n",
       "      <td>72571</td>\n",
       "      <td>506824400</td>\n",
       "      <td>1708</td>\n",
       "      <td>239.485600</td>\n",
       "      <td>7.54</td>\n",
       "      <td>42.285965</td>\n",
       "      <td>-83.733940</td>\n",
       "      <td>212.93100</td>\n",
       "      <td>12</td>\n",
       "      <td>1</td>\n",
       "      <td>4</td>\n",
       "      <td>1.32</td>\n",
       "      <td>4</td>\n",
       "      <td>506808400</td>\n",
       "      <td>1708</td>\n",
       "    </tr>\n",
       "    <tr>\n",
       "      <th>120958</th>\n",
       "      <td>10204</td>\n",
       "      <td>268</td>\n",
       "      <td>72591</td>\n",
       "      <td>506824600</td>\n",
       "      <td>1708</td>\n",
       "      <td>239.828290</td>\n",
       "      <td>7.49</td>\n",
       "      <td>42.285957</td>\n",
       "      <td>-83.733955</td>\n",
       "      <td>212.98801</td>\n",
       "      <td>13</td>\n",
       "      <td>1</td>\n",
       "      <td>4</td>\n",
       "      <td>1.30</td>\n",
       "      <td>4</td>\n",
       "      <td>506808600</td>\n",
       "      <td>1708</td>\n",
       "    </tr>\n",
       "    <tr>\n",
       "      <th>120959</th>\n",
       "      <td>10204</td>\n",
       "      <td>268</td>\n",
       "      <td>72612</td>\n",
       "      <td>506824800</td>\n",
       "      <td>1708</td>\n",
       "      <td>239.733800</td>\n",
       "      <td>7.42</td>\n",
       "      <td>42.285954</td>\n",
       "      <td>-83.733971</td>\n",
       "      <td>213.04300</td>\n",
       "      <td>13</td>\n",
       "      <td>1</td>\n",
       "      <td>4</td>\n",
       "      <td>1.30</td>\n",
       "      <td>4</td>\n",
       "      <td>506808800</td>\n",
       "      <td>1708</td>\n",
       "    </tr>\n",
       "    <tr>\n",
       "      <th>120960</th>\n",
       "      <td>10204</td>\n",
       "      <td>268</td>\n",
       "      <td>72633</td>\n",
       "      <td>506825000</td>\n",
       "      <td>1708</td>\n",
       "      <td>239.743190</td>\n",
       "      <td>7.42</td>\n",
       "      <td>42.285946</td>\n",
       "      <td>-83.733986</td>\n",
       "      <td>213.08299</td>\n",
       "      <td>13</td>\n",
       "      <td>1</td>\n",
       "      <td>4</td>\n",
       "      <td>1.30</td>\n",
       "      <td>10</td>\n",
       "      <td>506809000</td>\n",
       "      <td>1708</td>\n",
       "    </tr>\n",
       "    <tr>\n",
       "      <th>120961</th>\n",
       "      <td>10204</td>\n",
       "      <td>268</td>\n",
       "      <td>72652</td>\n",
       "      <td>506825200</td>\n",
       "      <td>1708</td>\n",
       "      <td>239.775100</td>\n",
       "      <td>7.38</td>\n",
       "      <td>42.285938</td>\n",
       "      <td>-83.734001</td>\n",
       "      <td>213.12100</td>\n",
       "      <td>13</td>\n",
       "      <td>1</td>\n",
       "      <td>4</td>\n",
       "      <td>1.30</td>\n",
       "      <td>4</td>\n",
       "      <td>506809200</td>\n",
       "      <td>1708</td>\n",
       "    </tr>\n",
       "    <tr>\n",
       "      <th>...</th>\n",
       "      <td>...</td>\n",
       "      <td>...</td>\n",
       "      <td>...</td>\n",
       "      <td>...</td>\n",
       "      <td>...</td>\n",
       "      <td>...</td>\n",
       "      <td>...</td>\n",
       "      <td>...</td>\n",
       "      <td>...</td>\n",
       "      <td>...</td>\n",
       "      <td>...</td>\n",
       "      <td>...</td>\n",
       "      <td>...</td>\n",
       "      <td>...</td>\n",
       "      <td>...</td>\n",
       "      <td>...</td>\n",
       "      <td>...</td>\n",
       "    </tr>\n",
       "    <tr>\n",
       "      <th>997735</th>\n",
       "      <td>17101</td>\n",
       "      <td>28</td>\n",
       "      <td>1595811</td>\n",
       "      <td>492287200</td>\n",
       "      <td>1710</td>\n",
       "      <td>60.193279</td>\n",
       "      <td>11.00</td>\n",
       "      <td>42.285923</td>\n",
       "      <td>-83.733826</td>\n",
       "      <td>212.14600</td>\n",
       "      <td>11</td>\n",
       "      <td>1</td>\n",
       "      <td>4</td>\n",
       "      <td>1.58</td>\n",
       "      <td>4</td>\n",
       "      <td>492271200</td>\n",
       "      <td>1710</td>\n",
       "    </tr>\n",
       "    <tr>\n",
       "      <th>997736</th>\n",
       "      <td>17101</td>\n",
       "      <td>28</td>\n",
       "      <td>1595830</td>\n",
       "      <td>492287400</td>\n",
       "      <td>1710</td>\n",
       "      <td>60.422611</td>\n",
       "      <td>10.99</td>\n",
       "      <td>42.285934</td>\n",
       "      <td>-83.733803</td>\n",
       "      <td>212.07300</td>\n",
       "      <td>11</td>\n",
       "      <td>1</td>\n",
       "      <td>4</td>\n",
       "      <td>1.58</td>\n",
       "      <td>4</td>\n",
       "      <td>492271400</td>\n",
       "      <td>1710</td>\n",
       "    </tr>\n",
       "    <tr>\n",
       "      <th>997737</th>\n",
       "      <td>17101</td>\n",
       "      <td>28</td>\n",
       "      <td>1595851</td>\n",
       "      <td>492287600</td>\n",
       "      <td>1710</td>\n",
       "      <td>60.365929</td>\n",
       "      <td>10.98</td>\n",
       "      <td>42.285942</td>\n",
       "      <td>-83.733780</td>\n",
       "      <td>211.98599</td>\n",
       "      <td>11</td>\n",
       "      <td>1</td>\n",
       "      <td>4</td>\n",
       "      <td>1.58</td>\n",
       "      <td>4</td>\n",
       "      <td>492271600</td>\n",
       "      <td>1710</td>\n",
       "    </tr>\n",
       "    <tr>\n",
       "      <th>997738</th>\n",
       "      <td>17101</td>\n",
       "      <td>28</td>\n",
       "      <td>1595870</td>\n",
       "      <td>492287800</td>\n",
       "      <td>1710</td>\n",
       "      <td>60.441559</td>\n",
       "      <td>10.90</td>\n",
       "      <td>42.285954</td>\n",
       "      <td>-83.733749</td>\n",
       "      <td>211.89700</td>\n",
       "      <td>11</td>\n",
       "      <td>1</td>\n",
       "      <td>4</td>\n",
       "      <td>1.58</td>\n",
       "      <td>4</td>\n",
       "      <td>492271800</td>\n",
       "      <td>1710</td>\n",
       "    </tr>\n",
       "    <tr>\n",
       "      <th>997739</th>\n",
       "      <td>17101</td>\n",
       "      <td>28</td>\n",
       "      <td>1595894</td>\n",
       "      <td>492288000</td>\n",
       "      <td>1710</td>\n",
       "      <td>60.577381</td>\n",
       "      <td>10.82</td>\n",
       "      <td>42.285961</td>\n",
       "      <td>-83.733727</td>\n",
       "      <td>211.80701</td>\n",
       "      <td>11</td>\n",
       "      <td>1</td>\n",
       "      <td>4</td>\n",
       "      <td>1.58</td>\n",
       "      <td>8</td>\n",
       "      <td>492272000</td>\n",
       "      <td>1710</td>\n",
       "    </tr>\n",
       "  </tbody>\n",
       "</table>\n",
       "<p>35372 rows × 17 columns</p>\n",
       "</div>"
      ],
      "text/plain": [
       "        Device  Trip     Time    GpsTime  GpsWeek  GpsHeading  GpsSpeed  \\\n",
       "120957   10204   268    72571  506824400     1708  239.485600      7.54   \n",
       "120958   10204   268    72591  506824600     1708  239.828290      7.49   \n",
       "120959   10204   268    72612  506824800     1708  239.733800      7.42   \n",
       "120960   10204   268    72633  506825000     1708  239.743190      7.42   \n",
       "120961   10204   268    72652  506825200     1708  239.775100      7.38   \n",
       "...        ...   ...      ...        ...      ...         ...       ...   \n",
       "997735   17101    28  1595811  492287200     1710   60.193279     11.00   \n",
       "997736   17101    28  1595830  492287400     1710   60.422611     10.99   \n",
       "997737   17101    28  1595851  492287600     1710   60.365929     10.98   \n",
       "997738   17101    28  1595870  492287800     1710   60.441559     10.90   \n",
       "997739   17101    28  1595894  492288000     1710   60.577381     10.82   \n",
       "\n",
       "         Latitude  Longitude   Altitude  NumberOfSats  Differential  FixMode  \\\n",
       "120957  42.285965 -83.733940  212.93100            12             1        4   \n",
       "120958  42.285957 -83.733955  212.98801            13             1        4   \n",
       "120959  42.285954 -83.733971  213.04300            13             1        4   \n",
       "120960  42.285946 -83.733986  213.08299            13             1        4   \n",
       "120961  42.285938 -83.734001  213.12100            13             1        4   \n",
       "...           ...        ...        ...           ...           ...      ...   \n",
       "997735  42.285923 -83.733826  212.14600            11             1        4   \n",
       "997736  42.285934 -83.733803  212.07300            11             1        4   \n",
       "997737  42.285942 -83.733780  211.98599            11             1        4   \n",
       "997738  42.285954 -83.733749  211.89700            11             1        4   \n",
       "997739  42.285961 -83.733727  211.80701            11             1        4   \n",
       "\n",
       "        Pdop  GpsBytes    UtcTime  UtcWeek  \n",
       "120957  1.32         4  506808400     1708  \n",
       "120958  1.30         4  506808600     1708  \n",
       "120959  1.30         4  506808800     1708  \n",
       "120960  1.30        10  506809000     1708  \n",
       "120961  1.30         4  506809200     1708  \n",
       "...      ...       ...        ...      ...  \n",
       "997735  1.58         4  492271200     1710  \n",
       "997736  1.58         4  492271400     1710  \n",
       "997737  1.58         4  492271600     1710  \n",
       "997738  1.58         4  492271800     1710  \n",
       "997739  1.58         8  492272000     1710  \n",
       "\n",
       "[35372 rows x 17 columns]"
      ]
     },
     "execution_count": 49,
     "metadata": {},
     "output_type": "execute_result"
    }
   ],
   "source": [
    "#1.\n",
    "df = df[(df[\"Latitude\"] >= 42.282970-0.003) & (df[\"Latitude\"] <= 42.282970+0.003) \n",
    "        & (df[\"Longitude\"] >= -83.735390-0.003) & (df[\"Longitude\"] <= -83.735390+0.003)]\n",
    "\n",
    "#2.\n",
    "trips, counts = np.unique(df[\"Trip\"], return_counts=True)\n",
    "trips = trips[counts>100]\n",
    "df = df[df['Trip'].isin(trips)]\n",
    "\n",
    "#Affichage du dataframe\n",
    "df"
   ]
  },
  {
   "cell_type": "code",
   "execution_count": 50,
   "id": "alike-noise",
   "metadata": {},
   "outputs": [],
   "source": [
    "#bins / nombre d'intervalles\n",
    "n_interval = 10\n",
    "\n",
    "#récupération de paramètres\n",
    "latitude_min, latitude_max, longitude_min, longitude_max, ecart_x, ecart_y = ds.calcul_param(df)\n",
    "\n",
    "#On sépare en n_interval la latitude et la longitude\n",
    "x_splits = np.linspace(latitude_min,latitude_max, n_interval)\n",
    "y_splits = np.linspace(longitude_min,longitude_max, n_interval)"
   ]
  },
  {
   "cell_type": "markdown",
   "id": "simplified-precipitation",
   "metadata": {},
   "source": [
    "## Modèles"
   ]
  },
  {
   "cell_type": "code",
   "execution_count": 51,
   "id": "proved-enlargement",
   "metadata": {},
   "outputs": [],
   "source": [
    "from sklearn.linear_model import LinearRegression\n",
    "from sklearn.preprocessing import MinMaxScaler, StandardScaler\n",
    "from dataSource import *\n",
    "from sklearn.metrics import mean_squared_error\n",
    "#fichier contenant des classes pour transformer et evaluer les données\n",
    "import Eval\n",
    "from physic_model import *"
   ]
  },
  {
   "cell_type": "markdown",
   "id": "regulation-aside",
   "metadata": {},
   "source": [
    "#### Paramètres pour la contruction des jeux de données"
   ]
  },
  {
   "cell_type": "code",
   "execution_count": 52,
   "id": "domestic-median",
   "metadata": {},
   "outputs": [],
   "source": [
    "#on prend un point sur 'step' du jeu de données\n",
    "freq_train = 200\n",
    "freq_test = freq_train\n",
    "\n",
    "train_size = 0.8\n",
    "\n",
    "#features\n",
    "attrs_x = [['Latitude','Longitude','GpsSpeed','GpsHeading'],['Latitude','Longitude']]\n",
    "\n",
    "#targets\n",
    "labels = ['Latitude','Longitude']\n",
    "\n",
    "#models\n",
    "#models = [LinearRegression(), physic_model(freq)]\n",
    "models = [LinearRegression(), LinearRegression()]\n",
    "\n",
    "#preprocessing\n",
    "#preprocessor = [MinMaxScaler() for _ in range(len(models))]\n",
    "preprocessor = None"
   ]
  },
  {
   "cell_type": "code",
   "execution_count": 55,
   "id": "suburban-nevada",
   "metadata": {},
   "outputs": [
    {
     "data": {
      "text/html": [
       "<div>\n",
       "<style scoped>\n",
       "    .dataframe tbody tr th:only-of-type {\n",
       "        vertical-align: middle;\n",
       "    }\n",
       "\n",
       "    .dataframe tbody tr th {\n",
       "        vertical-align: top;\n",
       "    }\n",
       "\n",
       "    .dataframe thead th {\n",
       "        text-align: right;\n",
       "    }\n",
       "</style>\n",
       "<table border=\"1\" class=\"dataframe\">\n",
       "  <thead>\n",
       "    <tr style=\"text-align: right;\">\n",
       "      <th></th>\n",
       "      <th>Latitude</th>\n",
       "      <th>Longitude</th>\n",
       "      <th>GpsSpeed</th>\n",
       "      <th>GpsHeading</th>\n",
       "    </tr>\n",
       "  </thead>\n",
       "  <tbody>\n",
       "    <tr>\n",
       "      <th>779034</th>\n",
       "      <td>42.285969</td>\n",
       "      <td>-83.734123</td>\n",
       "      <td>8.20</td>\n",
       "      <td>239.22520</td>\n",
       "    </tr>\n",
       "    <tr>\n",
       "      <th>779035</th>\n",
       "      <td>42.285961</td>\n",
       "      <td>-83.734146</td>\n",
       "      <td>8.17</td>\n",
       "      <td>238.83400</td>\n",
       "    </tr>\n",
       "    <tr>\n",
       "      <th>779036</th>\n",
       "      <td>42.285954</td>\n",
       "      <td>-83.734161</td>\n",
       "      <td>8.08</td>\n",
       "      <td>238.87939</td>\n",
       "    </tr>\n",
       "    <tr>\n",
       "      <th>779037</th>\n",
       "      <td>42.285946</td>\n",
       "      <td>-83.734177</td>\n",
       "      <td>8.03</td>\n",
       "      <td>238.94881</td>\n",
       "    </tr>\n",
       "    <tr>\n",
       "      <th>779038</th>\n",
       "      <td>42.285938</td>\n",
       "      <td>-83.734192</td>\n",
       "      <td>7.99</td>\n",
       "      <td>238.85760</td>\n",
       "    </tr>\n",
       "    <tr>\n",
       "      <th>...</th>\n",
       "      <td>...</td>\n",
       "      <td>...</td>\n",
       "      <td>...</td>\n",
       "      <td>...</td>\n",
       "    </tr>\n",
       "    <tr>\n",
       "      <th>810389</th>\n",
       "      <td>42.281384</td>\n",
       "      <td>-83.735573</td>\n",
       "      <td>5.20</td>\n",
       "      <td>163.12700</td>\n",
       "    </tr>\n",
       "    <tr>\n",
       "      <th>810390</th>\n",
       "      <td>42.281376</td>\n",
       "      <td>-83.735573</td>\n",
       "      <td>5.19</td>\n",
       "      <td>159.75281</td>\n",
       "    </tr>\n",
       "    <tr>\n",
       "      <th>810391</th>\n",
       "      <td>42.281368</td>\n",
       "      <td>-83.735565</td>\n",
       "      <td>5.00</td>\n",
       "      <td>156.50169</td>\n",
       "    </tr>\n",
       "    <tr>\n",
       "      <th>810392</th>\n",
       "      <td>42.281361</td>\n",
       "      <td>-83.735558</td>\n",
       "      <td>5.05</td>\n",
       "      <td>154.74350</td>\n",
       "    </tr>\n",
       "    <tr>\n",
       "      <th>810393</th>\n",
       "      <td>42.281353</td>\n",
       "      <td>-83.735550</td>\n",
       "      <td>4.99</td>\n",
       "      <td>150.83940</td>\n",
       "    </tr>\n",
       "  </tbody>\n",
       "</table>\n",
       "<p>6834 rows × 4 columns</p>\n",
       "</div>"
      ],
      "text/plain": [
       "         Latitude  Longitude  GpsSpeed  GpsHeading\n",
       "779034  42.285969 -83.734123      8.20   239.22520\n",
       "779035  42.285961 -83.734146      8.17   238.83400\n",
       "779036  42.285954 -83.734161      8.08   238.87939\n",
       "779037  42.285946 -83.734177      8.03   238.94881\n",
       "779038  42.285938 -83.734192      7.99   238.85760\n",
       "...           ...        ...       ...         ...\n",
       "810389  42.281384 -83.735573      5.20   163.12700\n",
       "810390  42.281376 -83.735573      5.19   159.75281\n",
       "810391  42.281368 -83.735565      5.00   156.50169\n",
       "810392  42.281361 -83.735558      5.05   154.74350\n",
       "810393  42.281353 -83.735550      4.99   150.83940\n",
       "\n",
       "[6834 rows x 4 columns]"
      ]
     },
     "execution_count": 55,
     "metadata": {},
     "output_type": "execute_result"
    }
   ],
   "source": [
    "traitement.l_Xtest[0]"
   ]
  },
  {
   "cell_type": "code",
   "execution_count": 58,
   "id": "olive-jason",
   "metadata": {},
   "outputs": [
    {
     "data": {
      "text/plain": [
       "(6834, 2)"
      ]
     },
     "execution_count": 58,
     "metadata": {},
     "output_type": "execute_result"
    }
   ],
   "source": [
    "models[0].predict(traitement.l_Xtest[0]).shape"
   ]
  },
  {
   "cell_type": "code",
   "execution_count": 59,
   "id": "dressed-montgomery",
   "metadata": {},
   "outputs": [
    {
     "data": {
      "text/plain": [
       "array([[ 42.28596893, -83.7341348 ],\n",
       "       [ 42.28596087, -83.73415775],\n",
       "       [ 42.28595384, -83.73417274],\n",
       "       ...,\n",
       "       [ 42.28136884, -83.73555733],\n",
       "       [ 42.28136187, -83.73555019],\n",
       "       [ 42.28135393, -83.73554195]])"
      ]
     },
     "execution_count": 59,
     "metadata": {},
     "output_type": "execute_result"
    }
   ],
   "source": [
    "models[0].predict(traitement.l_Xtest[0])"
   ]
  },
  {
   "cell_type": "markdown",
   "id": "lonely-thomson",
   "metadata": {},
   "source": [
    "#### Création des données d'apprentissage et de test et évaluation des modèles"
   ]
  },
  {
   "cell_type": "code",
   "execution_count": 54,
   "id": "mobile-python",
   "metadata": {
    "scrolled": true
   },
   "outputs": [
    {
     "name": "stdout",
     "output_type": "stream",
     "text": [
      "Score obtenu pour le modèle 0          : 0.9955271490380224\n",
      "Score obtenu pour le modèle 1          : 0.9955120324032305\n",
      "\n",
      "MSE obtenue pour le modèle  0          : 6.3261227801664036e-09\n",
      "MSE obtenue pour le modèle  1          : 6.346510438607174e-09\n",
      "\n"
     ]
    }
   ],
   "source": [
    "#création des données d'apprentissage et de test pour la prédiction du prochain point (à partir de toutes nos données)\n",
    "traitement = Eval.Traitement(df, attrs_x, labels, freq_train, freq_test, preprocessor)\n",
    "traitement.set_data_train_test(train_size)\n",
    "\n",
    "#Apprentissage des modèles et évaluation à partir de l'objet traitement\n",
    "evaluateur = Eval.Evaluation(models,traitement)\n",
    "evaluateur.fit()\n",
    "\n",
    "#Affichage des résultats\n",
    "evaluateur.afficher_resultats()"
   ]
  },
  {
   "cell_type": "markdown",
   "id": "union-withdrawal",
   "metadata": {},
   "source": [
    "#### Tableau d'erreurs en fonction de la fréquence"
   ]
  },
  {
   "cell_type": "code",
   "execution_count": 40,
   "id": "muslim-biography",
   "metadata": {},
   "outputs": [],
   "source": [
    "freq_train = [200*i for i in range(1,10)]\n",
    "freq_test = freq_train\n",
    "\n",
    "tab_mse = []\n",
    "\n",
    "for freq in freq_train:\n",
    "    #création des données d'apprentissage et de test pour la prédiction du prochain point (à partir de toutes nos données)\n",
    "    traitement = Eval.Traitement(df, attrs_x, labels, freq, freq, preprocessor)\n",
    "    traitement.set_data_train_test(train_size)\n",
    "\n",
    "    #Apprentissage des modèles et évaluation à partir de l'objet traitement\n",
    "    evaluateur = Eval.Evaluation(models,traitement)\n",
    "    evaluateur.fit()\n",
    "\n",
    "    #Affichage des résultats\n",
    "    tab_mse.append(evaluateur.calculMse())\n",
    "    \n",
    "tab_mse = np.array(tab_mse)"
   ]
  },
  {
   "cell_type": "code",
   "execution_count": 26,
   "id": "logical-guess",
   "metadata": {},
   "outputs": [
    {
     "data": {
      "text/plain": [
       "array([[9.29004299e-11, 1.36760485e-10],\n",
       "       [5.74416067e-09, 5.82414166e-09],\n",
       "       [7.82445502e-10, 1.07640099e-09],\n",
       "       [2.08335932e-09, 2.37598395e-09],\n",
       "       [3.61169353e-08, 3.66902541e-08]])"
      ]
     },
     "execution_count": 26,
     "metadata": {},
     "output_type": "execute_result"
    }
   ],
   "source": [
    "tab_mse"
   ]
  },
  {
   "cell_type": "code",
   "execution_count": 41,
   "id": "acute-bouquet",
   "metadata": {},
   "outputs": [
    {
     "data": {
      "text/plain": [
       "<function matplotlib.pyplot.xlabel(xlabel, fontdict=None, labelpad=None, *, loc=None, **kwargs)>"
      ]
     },
     "execution_count": 41,
     "metadata": {},
     "output_type": "execute_result"
    },
    {
     "data": {
      "image/png": "[encoded data removed]",
      "text/plain": [
       "<Figure size 432x288 with 1 Axes>"
      ]
     },
     "metadata": {
      "needs_background": "light"
     },
     "output_type": "display_data"
    }
   ],
   "source": [
    "plt.plot(tab_mse[:,0])\n",
    "plt.plot(tab_mse[:,1])\n",
    "plt.xlabel"
   ]
  },
  {
   "cell_type": "markdown",
   "id": "placed-fifth",
   "metadata": {},
   "source": [
    "#### Matrice erreurs mse pour la prédiction de chaque case"
   ]
  },
  {
   "cell_type": "code",
   "execution_count": 44,
   "id": "gothic-parliament",
   "metadata": {},
   "outputs": [
    {
     "name": "stdout",
     "output_type": "stream",
     "text": [
      "Matrice l'erreur MSE pour chaque label :\n"
     ]
    },
    {
     "data": {
      "image/png": "[encoded data removed]",
      "text/plain": [
       "<Figure size 432x288 with 2 Axes>"
      ]
     },
     "metadata": {
      "needs_background": "light"
     },
     "output_type": "display_data"
    },
    {
     "data": {
      "image/png": "[encoded data removed]",
      "text/plain": [
       "<Figure size 432x288 with 2 Axes>"
      ]
     },
     "metadata": {
      "needs_background": "light"
     },
     "output_type": "display_data"
    }
   ],
   "source": [
    "from sklearn.metrics import mean_squared_error\n",
    "\n",
    "freq_train = 400\n",
    "freq_test = freq_train\n",
    "\n",
    "\n",
    "# liste matrices erreurs des cases\n",
    "l_mat_err= [np.zeros((n_interval, n_interval)) for i in range(len(models))]\n",
    "# parcours de toutes les cases\n",
    "for i in range(n_interval):\n",
    "    for j in range(n_interval):\n",
    "        # récupération des données de la case\n",
    "        case_df=ds.trouve_data_case(df, (i, j), latitude_min, longitude_min, ecart_x, ecart_y)\n",
    "        \n",
    "        #On prend les Trips qui ont au moins 2 points\n",
    "        ctrips, ccounts = np.unique(case_df[\"Trip\"], return_counts=True)\n",
    "        ctrips = ctrips[ccounts>1]\n",
    "        case_df = case_df[case_df['Trip'].isin(ctrips)]\n",
    "        \n",
    "        #Cases qui ont au moins 2 trips\n",
    "        if len(pd.unique(case_df[\"Trip\"])) > 1 :\n",
    "            traitement = Eval.Traitement(case_df, attrs_x, labels, freq_train, freq_test, preprocessor)\n",
    "            traitement.set_data_train_test(train_size)\n",
    "            \n",
    "            l_ypred = evaluateur.predict(traitement.l_Xtest)\n",
    "\n",
    "            for mi in range(len(models)):               \n",
    "                l_mat_err[mi][n_interval-1-i, j] = mean_squared_error(traitement.l_Ytest[mi],l_ypred[mi])\n",
    "\n",
    "print(\"Matrice l'erreur MSE pour chaque label :\")\n",
    "for m in range(len(l_mat_err)):\n",
    "    plt.figure()\n",
    "    plt.title(m)\n",
    "    sns.heatmap(l_mat_err[m], linewidths=.5, cmap=\"YlGnBu\", yticklabels=np.arange(n_interval-1, -1, -1))"
   ]
  },
  {
   "cell_type": "code",
   "execution_count": null,
   "id": "contained-federal",
   "metadata": {},
   "outputs": [],
   "source": [
    "for mi in range(len(l_mat_err)):\n",
    "    print(mi)\n",
    "    dv.afficher_mat_hist(l_mat_err[mi])"
   ]
  }
 ],
 "metadata": {
  "kernelspec": {
   "display_name": "Python 3",
   "language": "python",
   "name": "python3"
  },
  "language_info": {
   "codemirror_mode": {
    "name": "ipython",
    "version": 3
   },
   "file_extension": ".py",
   "mimetype": "text/x-python",
   "name": "python",
   "nbconvert_exporter": "python",
   "pygments_lexer": "ipython3",
   "version": "3.7.9"
  }
 },
 "nbformat": 4,
 "nbformat_minor": 5
}
