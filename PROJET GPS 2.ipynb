{
 "cells": [
  {
   "cell_type": "markdown",
   "id": "finnish-polish",
   "metadata": {},
   "source": [
    "### Importation de librairies"
   ]
  },
  {
   "cell_type": "code",
   "execution_count": 1,
   "id": "expected-drill",
   "metadata": {},
   "outputs": [],
   "source": [
    "#Importation de librairies\n",
    "import math\n",
    "import numpy as np\n",
    "import pandas as pd\n",
    "import seaborn as sns\n",
    "import matplotlib.pyplot as plt\n",
    "\n",
    "#Importation de fichiers contenant des fonctions\n",
    "import dataSource as ds\n",
    "import dataVisualization as dv"
   ]
  },
  {
   "cell_type": "markdown",
   "id": "operating-vegetable",
   "metadata": {},
   "source": [
    "### Lecture du fichier"
   ]
  },
  {
   "cell_type": "code",
   "execution_count": 2,
   "id": "centered-bernard",
   "metadata": {},
   "outputs": [],
   "source": [
    "# Lecture du fichier csv : 1,000,000 premières lignes\n",
    "df = pd.read_csv(\"../DataGpsDas.csv\", nrows=1000000)"
   ]
  },
  {
   "cell_type": "markdown",
   "id": "operational-aruba",
   "metadata": {},
   "source": [
    "### Trie des données"
   ]
  },
  {
   "cell_type": "code",
   "execution_count": 3,
   "id": "historical-judges",
   "metadata": {},
   "outputs": [
    {
     "data": {
      "text/html": [
       "<div>\n",
       "<style scoped>\n",
       "    .dataframe tbody tr th:only-of-type {\n",
       "        vertical-align: middle;\n",
       "    }\n",
       "\n",
       "    .dataframe tbody tr th {\n",
       "        vertical-align: top;\n",
       "    }\n",
       "\n",
       "    .dataframe thead th {\n",
       "        text-align: right;\n",
       "    }\n",
       "</style>\n",
       "<table border=\"1\" class=\"dataframe\">\n",
       "  <thead>\n",
       "    <tr style=\"text-align: right;\">\n",
       "      <th></th>\n",
       "      <th>Device</th>\n",
       "      <th>Trip</th>\n",
       "      <th>Time</th>\n",
       "      <th>GpsTime</th>\n",
       "      <th>GpsWeek</th>\n",
       "      <th>GpsHeading</th>\n",
       "      <th>GpsSpeed</th>\n",
       "      <th>Latitude</th>\n",
       "      <th>Longitude</th>\n",
       "      <th>Altitude</th>\n",
       "      <th>NumberOfSats</th>\n",
       "      <th>Differential</th>\n",
       "      <th>FixMode</th>\n",
       "      <th>Pdop</th>\n",
       "      <th>GpsBytes</th>\n",
       "      <th>UtcTime</th>\n",
       "      <th>UtcWeek</th>\n",
       "    </tr>\n",
       "  </thead>\n",
       "  <tbody>\n",
       "    <tr>\n",
       "      <th>120957</th>\n",
       "      <td>10204</td>\n",
       "      <td>268</td>\n",
       "      <td>72571</td>\n",
       "      <td>506824400</td>\n",
       "      <td>1708</td>\n",
       "      <td>239.485600</td>\n",
       "      <td>7.54</td>\n",
       "      <td>42.285965</td>\n",
       "      <td>-83.733940</td>\n",
       "      <td>212.93100</td>\n",
       "      <td>12</td>\n",
       "      <td>1</td>\n",
       "      <td>4</td>\n",
       "      <td>1.32</td>\n",
       "      <td>4</td>\n",
       "      <td>506808400</td>\n",
       "      <td>1708</td>\n",
       "    </tr>\n",
       "    <tr>\n",
       "      <th>120958</th>\n",
       "      <td>10204</td>\n",
       "      <td>268</td>\n",
       "      <td>72591</td>\n",
       "      <td>506824600</td>\n",
       "      <td>1708</td>\n",
       "      <td>239.828290</td>\n",
       "      <td>7.49</td>\n",
       "      <td>42.285957</td>\n",
       "      <td>-83.733955</td>\n",
       "      <td>212.98801</td>\n",
       "      <td>13</td>\n",
       "      <td>1</td>\n",
       "      <td>4</td>\n",
       "      <td>1.30</td>\n",
       "      <td>4</td>\n",
       "      <td>506808600</td>\n",
       "      <td>1708</td>\n",
       "    </tr>\n",
       "    <tr>\n",
       "      <th>120959</th>\n",
       "      <td>10204</td>\n",
       "      <td>268</td>\n",
       "      <td>72612</td>\n",
       "      <td>506824800</td>\n",
       "      <td>1708</td>\n",
       "      <td>239.733800</td>\n",
       "      <td>7.42</td>\n",
       "      <td>42.285954</td>\n",
       "      <td>-83.733971</td>\n",
       "      <td>213.04300</td>\n",
       "      <td>13</td>\n",
       "      <td>1</td>\n",
       "      <td>4</td>\n",
       "      <td>1.30</td>\n",
       "      <td>4</td>\n",
       "      <td>506808800</td>\n",
       "      <td>1708</td>\n",
       "    </tr>\n",
       "    <tr>\n",
       "      <th>120960</th>\n",
       "      <td>10204</td>\n",
       "      <td>268</td>\n",
       "      <td>72633</td>\n",
       "      <td>506825000</td>\n",
       "      <td>1708</td>\n",
       "      <td>239.743190</td>\n",
       "      <td>7.42</td>\n",
       "      <td>42.285946</td>\n",
       "      <td>-83.733986</td>\n",
       "      <td>213.08299</td>\n",
       "      <td>13</td>\n",
       "      <td>1</td>\n",
       "      <td>4</td>\n",
       "      <td>1.30</td>\n",
       "      <td>10</td>\n",
       "      <td>506809000</td>\n",
       "      <td>1708</td>\n",
       "    </tr>\n",
       "    <tr>\n",
       "      <th>120961</th>\n",
       "      <td>10204</td>\n",
       "      <td>268</td>\n",
       "      <td>72652</td>\n",
       "      <td>506825200</td>\n",
       "      <td>1708</td>\n",
       "      <td>239.775100</td>\n",
       "      <td>7.38</td>\n",
       "      <td>42.285938</td>\n",
       "      <td>-83.734001</td>\n",
       "      <td>213.12100</td>\n",
       "      <td>13</td>\n",
       "      <td>1</td>\n",
       "      <td>4</td>\n",
       "      <td>1.30</td>\n",
       "      <td>4</td>\n",
       "      <td>506809200</td>\n",
       "      <td>1708</td>\n",
       "    </tr>\n",
       "    <tr>\n",
       "      <th>...</th>\n",
       "      <td>...</td>\n",
       "      <td>...</td>\n",
       "      <td>...</td>\n",
       "      <td>...</td>\n",
       "      <td>...</td>\n",
       "      <td>...</td>\n",
       "      <td>...</td>\n",
       "      <td>...</td>\n",
       "      <td>...</td>\n",
       "      <td>...</td>\n",
       "      <td>...</td>\n",
       "      <td>...</td>\n",
       "      <td>...</td>\n",
       "      <td>...</td>\n",
       "      <td>...</td>\n",
       "      <td>...</td>\n",
       "      <td>...</td>\n",
       "    </tr>\n",
       "    <tr>\n",
       "      <th>997735</th>\n",
       "      <td>17101</td>\n",
       "      <td>28</td>\n",
       "      <td>1595811</td>\n",
       "      <td>492287200</td>\n",
       "      <td>1710</td>\n",
       "      <td>60.193279</td>\n",
       "      <td>11.00</td>\n",
       "      <td>42.285923</td>\n",
       "      <td>-83.733826</td>\n",
       "      <td>212.14600</td>\n",
       "      <td>11</td>\n",
       "      <td>1</td>\n",
       "      <td>4</td>\n",
       "      <td>1.58</td>\n",
       "      <td>4</td>\n",
       "      <td>492271200</td>\n",
       "      <td>1710</td>\n",
       "    </tr>\n",
       "    <tr>\n",
       "      <th>997736</th>\n",
       "      <td>17101</td>\n",
       "      <td>28</td>\n",
       "      <td>1595830</td>\n",
       "      <td>492287400</td>\n",
       "      <td>1710</td>\n",
       "      <td>60.422611</td>\n",
       "      <td>10.99</td>\n",
       "      <td>42.285934</td>\n",
       "      <td>-83.733803</td>\n",
       "      <td>212.07300</td>\n",
       "      <td>11</td>\n",
       "      <td>1</td>\n",
       "      <td>4</td>\n",
       "      <td>1.58</td>\n",
       "      <td>4</td>\n",
       "      <td>492271400</td>\n",
       "      <td>1710</td>\n",
       "    </tr>\n",
       "    <tr>\n",
       "      <th>997737</th>\n",
       "      <td>17101</td>\n",
       "      <td>28</td>\n",
       "      <td>1595851</td>\n",
       "      <td>492287600</td>\n",
       "      <td>1710</td>\n",
       "      <td>60.365929</td>\n",
       "      <td>10.98</td>\n",
       "      <td>42.285942</td>\n",
       "      <td>-83.733780</td>\n",
       "      <td>211.98599</td>\n",
       "      <td>11</td>\n",
       "      <td>1</td>\n",
       "      <td>4</td>\n",
       "      <td>1.58</td>\n",
       "      <td>4</td>\n",
       "      <td>492271600</td>\n",
       "      <td>1710</td>\n",
       "    </tr>\n",
       "    <tr>\n",
       "      <th>997738</th>\n",
       "      <td>17101</td>\n",
       "      <td>28</td>\n",
       "      <td>1595870</td>\n",
       "      <td>492287800</td>\n",
       "      <td>1710</td>\n",
       "      <td>60.441559</td>\n",
       "      <td>10.90</td>\n",
       "      <td>42.285954</td>\n",
       "      <td>-83.733749</td>\n",
       "      <td>211.89700</td>\n",
       "      <td>11</td>\n",
       "      <td>1</td>\n",
       "      <td>4</td>\n",
       "      <td>1.58</td>\n",
       "      <td>4</td>\n",
       "      <td>492271800</td>\n",
       "      <td>1710</td>\n",
       "    </tr>\n",
       "    <tr>\n",
       "      <th>997739</th>\n",
       "      <td>17101</td>\n",
       "      <td>28</td>\n",
       "      <td>1595894</td>\n",
       "      <td>492288000</td>\n",
       "      <td>1710</td>\n",
       "      <td>60.577381</td>\n",
       "      <td>10.82</td>\n",
       "      <td>42.285961</td>\n",
       "      <td>-83.733727</td>\n",
       "      <td>211.80701</td>\n",
       "      <td>11</td>\n",
       "      <td>1</td>\n",
       "      <td>4</td>\n",
       "      <td>1.58</td>\n",
       "      <td>8</td>\n",
       "      <td>492272000</td>\n",
       "      <td>1710</td>\n",
       "    </tr>\n",
       "  </tbody>\n",
       "</table>\n",
       "<p>35372 rows × 17 columns</p>\n",
       "</div>"
      ],
      "text/plain": [
       "        Device  Trip     Time    GpsTime  GpsWeek  GpsHeading  GpsSpeed  \\\n",
       "120957   10204   268    72571  506824400     1708  239.485600      7.54   \n",
       "120958   10204   268    72591  506824600     1708  239.828290      7.49   \n",
       "120959   10204   268    72612  506824800     1708  239.733800      7.42   \n",
       "120960   10204   268    72633  506825000     1708  239.743190      7.42   \n",
       "120961   10204   268    72652  506825200     1708  239.775100      7.38   \n",
       "...        ...   ...      ...        ...      ...         ...       ...   \n",
       "997735   17101    28  1595811  492287200     1710   60.193279     11.00   \n",
       "997736   17101    28  1595830  492287400     1710   60.422611     10.99   \n",
       "997737   17101    28  1595851  492287600     1710   60.365929     10.98   \n",
       "997738   17101    28  1595870  492287800     1710   60.441559     10.90   \n",
       "997739   17101    28  1595894  492288000     1710   60.577381     10.82   \n",
       "\n",
       "         Latitude  Longitude   Altitude  NumberOfSats  Differential  FixMode  \\\n",
       "120957  42.285965 -83.733940  212.93100            12             1        4   \n",
       "120958  42.285957 -83.733955  212.98801            13             1        4   \n",
       "120959  42.285954 -83.733971  213.04300            13             1        4   \n",
       "120960  42.285946 -83.733986  213.08299            13             1        4   \n",
       "120961  42.285938 -83.734001  213.12100            13             1        4   \n",
       "...           ...        ...        ...           ...           ...      ...   \n",
       "997735  42.285923 -83.733826  212.14600            11             1        4   \n",
       "997736  42.285934 -83.733803  212.07300            11             1        4   \n",
       "997737  42.285942 -83.733780  211.98599            11             1        4   \n",
       "997738  42.285954 -83.733749  211.89700            11             1        4   \n",
       "997739  42.285961 -83.733727  211.80701            11             1        4   \n",
       "\n",
       "        Pdop  GpsBytes    UtcTime  UtcWeek  \n",
       "120957  1.32         4  506808400     1708  \n",
       "120958  1.30         4  506808600     1708  \n",
       "120959  1.30         4  506808800     1708  \n",
       "120960  1.30        10  506809000     1708  \n",
       "120961  1.30         4  506809200     1708  \n",
       "...      ...       ...        ...      ...  \n",
       "997735  1.58         4  492271200     1710  \n",
       "997736  1.58         4  492271400     1710  \n",
       "997737  1.58         4  492271600     1710  \n",
       "997738  1.58         4  492271800     1710  \n",
       "997739  1.58         8  492272000     1710  \n",
       "\n",
       "[35372 rows x 17 columns]"
      ]
     },
     "execution_count": 3,
     "metadata": {},
     "output_type": "execute_result"
    }
   ],
   "source": [
    "#1.\n",
    "df = df[(df[\"Latitude\"] >= 42.282970-0.003) & (df[\"Latitude\"] <= 42.282970+0.003) \n",
    "        & (df[\"Longitude\"] >= -83.735390-0.003) & (df[\"Longitude\"] <= -83.735390+0.003)]\n",
    "\n",
    "#2.\n",
    "trips, counts = np.unique(df[\"Trip\"], return_counts=True)\n",
    "trips = trips[counts>100]\n",
    "df = df[df['Trip'].isin(trips)]\n",
    "\n",
    "#Affichage du dataframe\n",
    "df"
   ]
  },
  {
   "cell_type": "markdown",
   "id": "simplified-precipitation",
   "metadata": {},
   "source": [
    "## Modèles"
   ]
  },
  {
   "cell_type": "code",
   "execution_count": 4,
   "id": "proved-enlargement",
   "metadata": {},
   "outputs": [],
   "source": [
    "from sklearn.linear_model import LinearRegression\n",
    "from sklearn.preprocessing import MinMaxScaler, StandardScaler\n",
    "from dataSource import *\n",
    "from sklearn.metrics import mean_squared_error\n",
    "#fichier contenant des classes pour transformer et evaluer les données\n",
    "import Eval\n",
    "from model_physique1 import *"
   ]
  },
  {
   "cell_type": "markdown",
   "id": "regulation-aside",
   "metadata": {},
   "source": [
    "#### Paramètres pour la contruction des jeux de données"
   ]
  },
  {
   "cell_type": "code",
   "execution_count": 5,
   "id": "domestic-median",
   "metadata": {},
   "outputs": [],
   "source": [
    "#on prend un point sur 'step' du jeu de données\n",
    "freq_train = 200\n",
    "freq_test = freq_train\n",
    "\n",
    "train_size = 0.8\n",
    "\n",
    "#features\n",
    "attrs_x = [['Latitude','Longitude','GpsHeading', 'GpsSpeed'], ['Trip','Latitude','Longitude','GpsTime']]\n",
    "\n",
    "#targets\n",
    "labels = ['Latitude','Longitude']\n",
    "\n",
    "#modèles\n",
    "#models = [LinearRegression(), physic_model(freq)]\n",
    "models = [LinearRegression(), model_physique1(freq_test)]\n",
    "\n",
    "#preprocessing\n",
    "#preprocessor = [MinMaxScaler() for _ in range(len(models))]\n",
    "preprocessor = None"
   ]
  },
  {
   "cell_type": "markdown",
   "id": "lonely-thomson",
   "metadata": {},
   "source": [
    "#### Création des données d'apprentissage et de test et évaluation des modèles"
   ]
  },
  {
   "cell_type": "code",
   "execution_count": 6,
   "id": "mobile-python",
   "metadata": {
    "scrolled": true
   },
   "outputs": [],
   "source": [
    "#création des données d'apprentissage et de test pour la prédiction du prochain point (à partir de toutes nos données)\n",
    "traitement = Eval.Traitement(df, attrs_x, labels, freq_train, freq_test, preprocessor)\n",
    "traitement.set_data_train_test(train_size)\n",
    "\n",
    "#Apprentissage des modèles et évaluation à partir de l'objet traitement\n",
    "evaluateur = Eval.Evaluation(models,traitement)\n",
    "evaluateur.fit()\n",
    "\n",
    "#Affichage des résultats\n",
    "#evaluateur.afficher_resultats()"
   ]
  },
  {
   "cell_type": "code",
   "execution_count": 7,
   "id": "olive-jason",
   "metadata": {
    "tags": []
   },
   "outputs": [
    {
     "data": {
      "text/plain": [
       "(13750, 2)"
      ]
     },
     "execution_count": 7,
     "metadata": {},
     "output_type": "execute_result"
    }
   ],
   "source": [
    "models[0].predict(traitement.l_Xtest[0]).shape"
   ]
  },
  {
   "cell_type": "code",
   "execution_count": 8,
   "id": "dressed-montgomery",
   "metadata": {
    "tags": []
   },
   "outputs": [
    {
     "data": {
      "text/plain": [
       "array([[ 42.28596326, -83.7340597 ],\n",
       "       [ 42.28595522, -83.73408262],\n",
       "       [ 42.28594818, -83.73410558],\n",
       "       ...,\n",
       "       [ 42.28005728, -83.73364561],\n",
       "       [ 42.2800343 , -83.73364555],\n",
       "       [ 42.28000833, -83.73364546]])"
      ]
     },
     "execution_count": 8,
     "metadata": {},
     "output_type": "execute_result"
    }
   ],
   "source": [
    "models[0].predict(traitement.l_Xtest[0])"
   ]
  },
  {
   "cell_type": "markdown",
   "id": "union-withdrawal",
   "metadata": {},
   "source": [
    "#### Tableau d'erreurs en fonction de la fréquence"
   ]
  },
  {
   "cell_type": "code",
   "execution_count": 9,
   "id": "turkish-ethnic",
   "metadata": {},
   "outputs": [
    {
     "data": {
      "image/png": "[encoded data removed]",
      "text/plain": [
       "<Figure size 504x360 with 1 Axes>"
      ]
     },
     "metadata": {
      "needs_background": "light"
     },
     "output_type": "display_data"
    },
    {
     "data": {
      "text/plain": [
       "array([[3.76936841e-09, 3.93689088e-06],\n",
       "       [5.07803804e-09, 6.81156716e-09],\n",
       "       [1.18893303e-08, 3.62218599e-06],\n",
       "       [1.83175035e-08, 3.70043058e-06],\n",
       "       [2.73165634e-08, 4.43324683e-06],\n",
       "       [3.40193493e-08, 2.74019269e-06],\n",
       "       [5.03719296e-08, 3.13922960e-06],\n",
       "       [5.93165571e-08, 6.36856598e-08],\n",
       "       [5.14911356e-08, 1.04900640e-06],\n",
       "       [4.91451918e-08, 5.35314916e-08],\n",
       "       [1.20058885e-08, 1.62511947e-06],\n",
       "       [1.29285080e-08, 2.43948194e-06],\n",
       "       [8.45160911e-08, 9.17648963e-08],\n",
       "       [6.27012246e-08, 4.24523372e-06],\n",
       "       [1.97454039e-08, 4.17827803e-06]])"
      ]
     },
     "execution_count": 9,
     "metadata": {},
     "output_type": "execute_result"
    }
   ],
   "source": [
    "nb_freq = 15\n",
    "freq_train = [200*i for i in range(1,nb_freq+1)]\n",
    "freq_test = freq_train\n",
    "\n",
    "evaluateur.tabMSEFreq(freq_train)"
   ]
  },
  {
   "cell_type": "markdown",
   "id": "placed-fifth",
   "metadata": {},
   "source": [
    "#### Matrice erreurs MSE pour chaque case"
   ]
  },
  {
   "cell_type": "code",
   "execution_count": 10,
   "id": "paperback-water",
   "metadata": {},
   "outputs": [
    {
     "data": {
      "image/png": "[encoded data removed]",
      "text/plain": [
       "<Figure size 1080x360 with 3 Axes>"
      ]
     },
     "metadata": {
      "needs_background": "light"
     },
     "output_type": "display_data"
    },
    {
     "data": {
      "image/png": "[encoded data removed]",
      "text/plain": [
       "<Figure size 1080x360 with 3 Axes>"
      ]
     },
     "metadata": {
      "needs_background": "light"
     },
     "output_type": "display_data"
    }
   ],
   "source": [
    "#bins / nombre d'intervalles\n",
    "n_interval = 10\n",
    "\n",
    "#récupération de paramètres\n",
    "latitude_min, latitude_max, longitude_min, longitude_max, ecart_x, ecart_y = ds.calcul_param(df)\n",
    "min_datapoints = 20\n",
    "\n",
    "#fréquences\n",
    "freq_train = 400\n",
    "freq_test = freq_train\n",
    "\n",
    "#On apprend sur toutes les données puis on prédit et calcule l'erreur MSE sur chaque case\n",
    "evaluateur.matMSECase(freq_train,freq_test,latitude_min,longitude_min,ecart_x,ecart_y,min_datapoints,train_size,n_interval)"
   ]
  }
 ],
 "metadata": {
  "kernelspec": {
   "display_name": "Python 3",
   "language": "python",
   "name": "python3"
  },
  "language_info": {
   "codemirror_mode": {
    "name": "ipython",
    "version": 3
   },
   "file_extension": ".py",
   "mimetype": "text/x-python",
   "name": "python",
   "nbconvert_exporter": "python",
   "pygments_lexer": "ipython3",
   "version": "3.7.9"
  }
 },
 "nbformat": 4,
 "nbformat_minor": 5
}
