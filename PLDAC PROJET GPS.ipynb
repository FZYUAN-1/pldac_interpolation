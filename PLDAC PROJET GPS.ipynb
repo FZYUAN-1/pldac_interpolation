{
 "cells": [
  {
   "cell_type": "markdown",
   "id": "healthy-scale",
   "metadata": {},
   "source": [
    "# Sujet PLDAC : Interpolation contextualisée\n",
    "\n",
    "\n",
    "**Enseignants**: Vincent Guigue & Nicolas Baskiotis\n"
   ]
  },
  {
   "cell_type": "markdown",
   "id": "growing-clarity",
   "metadata": {},
   "source": [
    "## **Contexte :**\n",
    "L’idée est de développer des algorithmes prédictifs et d’interpolation sur les trajectoires\n",
    "GPS de voiture.<br/>\n",
    "En effet, la plupart des traces disponibles sont en très bas échantillonnage... Ce qui bride de nombreuses application.<br/>\n",
    "A partir d’un ensemble de données *T* = {x<sub>1</sub>, ... , x<sub>t</sub>, ..  , x<sub>T</sub>} ∈ *R<sup>2×T</sup>*, il est possible de\n",
    "chercher à prédire *x<sub>T+1</sub>* : cela constitue un problème classique.<br/> Il est aussi possible de chercher\n",
    "à prédire *x<sub>t+1/2</sub>* qui se situe entre les pas de temps *t* et *t+1*.<br/>\n",
    "Nous nous intéressons à ces problèmes... Mais en ajoutant un ingrédient important :\n",
    "la connaissance du contexte. En effet, à certaines intersections, on peut trouver à partir\n",
    "des observations du passé que tout le monde tourne à gauche : sachant cela, les problèmes\n",
    "précédents deviennent plus faciles.<br/>\n",
    "A partir d’une base des traces GPS haute fréquence sur la ville de Détroit, le but est\n",
    "d’apprendre à la fois les modèles de prédiction/interpolation et une représentation du contexte\n",
    "spatial.\n",
    "\n",
    "------------"
   ]
  },
  {
   "cell_type": "markdown",
   "id": "sitting-ceramic",
   "metadata": {},
   "source": [
    "## Description rapide"
   ]
  },
  {
   "cell_type": "markdown",
   "id": "black-daily",
   "metadata": {},
   "source": [
    "**Fichier:  DataGpsDas.csv**<br>\n",
    "Source : https://catalog.data.gov/dataset/safety-pilot-model-deployment-data <br/>\n",
    "\n",
    "-----------------------\n",
    "\n",
    "**Nombre de lignes total dans le fichier :** 41021227 <br/>\n",
    "**Nombre de colonnes :** 17\n",
    "\n",
    "------------------------\n",
    "\n",
    "**Nom des colonnes :**   ['Device', 'Trip', 'Time', 'GpsTime', 'GpsWeek', 'GpsHeading',\n",
    "       'GpsSpeed', 'Latitude', 'Longitude', 'Altitude', 'NumberOfSats',\n",
    "       'Differential', 'FixMode', 'Pdop', 'GpsBytes', 'UtcTime', 'UtcWeek']\n",
    "\n",
    "-----------------------\n",
    "\n",
    "### **Description de quelques colonnes :**<br/><br/>\n",
    "\n",
    "\n",
    "\n",
    "**Attribute Label:  DeviceID (column 1)** <br/>\n",
    "**Attribute Definition:** This field contains the unique, numeric ID assigned to each DAS. This ID also doubles as a vehicle’s ID. <br/>\n",
    "**Attribute Domain Values:** Integer\n",
    "\n",
    "------------------\n",
    "\n",
    "**Attribute Label: Trip (column 2)** <br/>\n",
    "**Attribute Definition:** This field contains a count of ignition cycles—each ignition cycle commences when the ignition is in the on position and ends when it is in the off position. <br/>\n",
    "**Attribute Domain Values:** Integer\n",
    "\n",
    "------------------\n",
    "\n",
    "**Attribute Label: Time (column 3)** <br/>\n",
    "**Attribute Definition:** This field contains the time in centiseconds since DAS started, which (generally) starts when the ignition is in the on position. <br/>\n",
    "**Attribute Domain Values:** Integer\n",
    "\n",
    "-------------------\n",
    "\n",
    "**Attribute Label: GPS_Speed  (column 7)** <br/>\n",
    "**Attribute Definition:** This field contains the speed, in meters/second, of vehicle according to GPS. <br/>\n",
    "**Attribute Domain Values:** Float\n",
    "\n",
    "-------------------\n",
    "\n",
    "**Attribute Label: GPS_Latitude (column 8)** <br/> \n",
    "**Attribute Definition:** This field contains the latitude, in degrees, of vehicle according to GPS.<br/> \n",
    "**Attribute Domain Values:** Float\n",
    "\n",
    "\n",
    "-------------------\n",
    "\n",
    "\n",
    "**Attribute Label: GPS_Longitude (column 9)**<br/>\n",
    "**Attribute Definition:** This field contains the longitude, in degrees, of vehicle according to GPS.<br/>\n",
    "**Attribute Domain Values:** Float\n",
    "\n",
    "-------------------\n",
    "\n",
    "**Attribute Label: GPS_Pdop  (column 14)** <br/>\n",
    "**Attribute Definition:** This field contains the Positional Dilution of Precision, used to determine position accuracy; the lower the number, the better. <br/>\n",
    "**Attribute Domain Values:** Float"
   ]
  },
  {
   "cell_type": "markdown",
   "id": "level-implementation",
   "metadata": {},
   "source": [
    "### Importation de librairies"
   ]
  },
  {
   "cell_type": "code",
   "execution_count": 43,
   "id": "antique-collectible",
   "metadata": {},
   "outputs": [],
   "source": [
    "import math\n",
    "import numpy as np\n",
    "import pandas as pd\n",
    "import seaborn as sns\n",
    "import matplotlib.pyplot as plt"
   ]
  },
  {
   "cell_type": "markdown",
   "id": "bridal-capability",
   "metadata": {},
   "source": [
    "### Lecture du fichier"
   ]
  },
  {
   "cell_type": "code",
   "execution_count": 44,
   "id": "outer-potter",
   "metadata": {},
   "outputs": [],
   "source": [
    "# lecture du fichier csv : 1.000.000 premières lignes\n",
    "df = pd.read_csv(\"DataGpsDas.csv\", nrows=1000000)"
   ]
  },
  {
   "cell_type": "markdown",
   "id": "published-october",
   "metadata": {},
   "source": [
    "### Trie des données"
   ]
  },
  {
   "cell_type": "markdown",
   "id": "balanced-relation",
   "metadata": {},
   "source": [
    "Informations tirées du pdf *Motion ResNet : An efficient data imputation method for spatio-temporal series* :\n",
    "\n",
    "1. \"We took trajectories only passing in a defined perimeter centered in latitude 42.282970 and longitude -83.735390, all positions within **latitude 42.282970±0.003000** and **longitude −83.735390±0.003000** are kept.\"\n",
    "\n",
    "\n",
    "2. \"Also we keep only trajectories with **at least 100 data points** so that we have enough dynamics to learn something.\""
   ]
  },
  {
   "cell_type": "code",
   "execution_count": 45,
   "id": "naval-breath",
   "metadata": {},
   "outputs": [
    {
     "data": {
      "text/html": [
       "<div>\n",
       "<style scoped>\n",
       "    .dataframe tbody tr th:only-of-type {\n",
       "        vertical-align: middle;\n",
       "    }\n",
       "\n",
       "    .dataframe tbody tr th {\n",
       "        vertical-align: top;\n",
       "    }\n",
       "\n",
       "    .dataframe thead th {\n",
       "        text-align: right;\n",
       "    }\n",
       "</style>\n",
       "<table border=\"1\" class=\"dataframe\">\n",
       "  <thead>\n",
       "    <tr style=\"text-align: right;\">\n",
       "      <th></th>\n",
       "      <th>Device</th>\n",
       "      <th>Trip</th>\n",
       "      <th>Time</th>\n",
       "      <th>GpsTime</th>\n",
       "      <th>GpsWeek</th>\n",
       "      <th>GpsHeading</th>\n",
       "      <th>GpsSpeed</th>\n",
       "      <th>Latitude</th>\n",
       "      <th>Longitude</th>\n",
       "      <th>Altitude</th>\n",
       "      <th>NumberOfSats</th>\n",
       "      <th>Differential</th>\n",
       "      <th>FixMode</th>\n",
       "      <th>Pdop</th>\n",
       "      <th>GpsBytes</th>\n",
       "      <th>UtcTime</th>\n",
       "      <th>UtcWeek</th>\n",
       "    </tr>\n",
       "  </thead>\n",
       "  <tbody>\n",
       "    <tr>\n",
       "      <th>120957</th>\n",
       "      <td>10204</td>\n",
       "      <td>268</td>\n",
       "      <td>72571</td>\n",
       "      <td>506824400</td>\n",
       "      <td>1708</td>\n",
       "      <td>239.485600</td>\n",
       "      <td>7.54</td>\n",
       "      <td>42.285965</td>\n",
       "      <td>-83.733940</td>\n",
       "      <td>212.93100</td>\n",
       "      <td>12</td>\n",
       "      <td>1</td>\n",
       "      <td>4</td>\n",
       "      <td>1.32</td>\n",
       "      <td>4</td>\n",
       "      <td>506808400</td>\n",
       "      <td>1708</td>\n",
       "    </tr>\n",
       "    <tr>\n",
       "      <th>120958</th>\n",
       "      <td>10204</td>\n",
       "      <td>268</td>\n",
       "      <td>72591</td>\n",
       "      <td>506824600</td>\n",
       "      <td>1708</td>\n",
       "      <td>239.828290</td>\n",
       "      <td>7.49</td>\n",
       "      <td>42.285957</td>\n",
       "      <td>-83.733955</td>\n",
       "      <td>212.98801</td>\n",
       "      <td>13</td>\n",
       "      <td>1</td>\n",
       "      <td>4</td>\n",
       "      <td>1.30</td>\n",
       "      <td>4</td>\n",
       "      <td>506808600</td>\n",
       "      <td>1708</td>\n",
       "    </tr>\n",
       "    <tr>\n",
       "      <th>120959</th>\n",
       "      <td>10204</td>\n",
       "      <td>268</td>\n",
       "      <td>72612</td>\n",
       "      <td>506824800</td>\n",
       "      <td>1708</td>\n",
       "      <td>239.733800</td>\n",
       "      <td>7.42</td>\n",
       "      <td>42.285954</td>\n",
       "      <td>-83.733971</td>\n",
       "      <td>213.04300</td>\n",
       "      <td>13</td>\n",
       "      <td>1</td>\n",
       "      <td>4</td>\n",
       "      <td>1.30</td>\n",
       "      <td>4</td>\n",
       "      <td>506808800</td>\n",
       "      <td>1708</td>\n",
       "    </tr>\n",
       "    <tr>\n",
       "      <th>120960</th>\n",
       "      <td>10204</td>\n",
       "      <td>268</td>\n",
       "      <td>72633</td>\n",
       "      <td>506825000</td>\n",
       "      <td>1708</td>\n",
       "      <td>239.743190</td>\n",
       "      <td>7.42</td>\n",
       "      <td>42.285946</td>\n",
       "      <td>-83.733986</td>\n",
       "      <td>213.08299</td>\n",
       "      <td>13</td>\n",
       "      <td>1</td>\n",
       "      <td>4</td>\n",
       "      <td>1.30</td>\n",
       "      <td>10</td>\n",
       "      <td>506809000</td>\n",
       "      <td>1708</td>\n",
       "    </tr>\n",
       "    <tr>\n",
       "      <th>120961</th>\n",
       "      <td>10204</td>\n",
       "      <td>268</td>\n",
       "      <td>72652</td>\n",
       "      <td>506825200</td>\n",
       "      <td>1708</td>\n",
       "      <td>239.775100</td>\n",
       "      <td>7.38</td>\n",
       "      <td>42.285938</td>\n",
       "      <td>-83.734001</td>\n",
       "      <td>213.12100</td>\n",
       "      <td>13</td>\n",
       "      <td>1</td>\n",
       "      <td>4</td>\n",
       "      <td>1.30</td>\n",
       "      <td>4</td>\n",
       "      <td>506809200</td>\n",
       "      <td>1708</td>\n",
       "    </tr>\n",
       "    <tr>\n",
       "      <th>...</th>\n",
       "      <td>...</td>\n",
       "      <td>...</td>\n",
       "      <td>...</td>\n",
       "      <td>...</td>\n",
       "      <td>...</td>\n",
       "      <td>...</td>\n",
       "      <td>...</td>\n",
       "      <td>...</td>\n",
       "      <td>...</td>\n",
       "      <td>...</td>\n",
       "      <td>...</td>\n",
       "      <td>...</td>\n",
       "      <td>...</td>\n",
       "      <td>...</td>\n",
       "      <td>...</td>\n",
       "      <td>...</td>\n",
       "      <td>...</td>\n",
       "    </tr>\n",
       "    <tr>\n",
       "      <th>997735</th>\n",
       "      <td>17101</td>\n",
       "      <td>28</td>\n",
       "      <td>1595811</td>\n",
       "      <td>492287200</td>\n",
       "      <td>1710</td>\n",
       "      <td>60.193279</td>\n",
       "      <td>11.00</td>\n",
       "      <td>42.285923</td>\n",
       "      <td>-83.733826</td>\n",
       "      <td>212.14600</td>\n",
       "      <td>11</td>\n",
       "      <td>1</td>\n",
       "      <td>4</td>\n",
       "      <td>1.58</td>\n",
       "      <td>4</td>\n",
       "      <td>492271200</td>\n",
       "      <td>1710</td>\n",
       "    </tr>\n",
       "    <tr>\n",
       "      <th>997736</th>\n",
       "      <td>17101</td>\n",
       "      <td>28</td>\n",
       "      <td>1595830</td>\n",
       "      <td>492287400</td>\n",
       "      <td>1710</td>\n",
       "      <td>60.422611</td>\n",
       "      <td>10.99</td>\n",
       "      <td>42.285934</td>\n",
       "      <td>-83.733803</td>\n",
       "      <td>212.07300</td>\n",
       "      <td>11</td>\n",
       "      <td>1</td>\n",
       "      <td>4</td>\n",
       "      <td>1.58</td>\n",
       "      <td>4</td>\n",
       "      <td>492271400</td>\n",
       "      <td>1710</td>\n",
       "    </tr>\n",
       "    <tr>\n",
       "      <th>997737</th>\n",
       "      <td>17101</td>\n",
       "      <td>28</td>\n",
       "      <td>1595851</td>\n",
       "      <td>492287600</td>\n",
       "      <td>1710</td>\n",
       "      <td>60.365929</td>\n",
       "      <td>10.98</td>\n",
       "      <td>42.285942</td>\n",
       "      <td>-83.733780</td>\n",
       "      <td>211.98599</td>\n",
       "      <td>11</td>\n",
       "      <td>1</td>\n",
       "      <td>4</td>\n",
       "      <td>1.58</td>\n",
       "      <td>4</td>\n",
       "      <td>492271600</td>\n",
       "      <td>1710</td>\n",
       "    </tr>\n",
       "    <tr>\n",
       "      <th>997738</th>\n",
       "      <td>17101</td>\n",
       "      <td>28</td>\n",
       "      <td>1595870</td>\n",
       "      <td>492287800</td>\n",
       "      <td>1710</td>\n",
       "      <td>60.441559</td>\n",
       "      <td>10.90</td>\n",
       "      <td>42.285954</td>\n",
       "      <td>-83.733749</td>\n",
       "      <td>211.89700</td>\n",
       "      <td>11</td>\n",
       "      <td>1</td>\n",
       "      <td>4</td>\n",
       "      <td>1.58</td>\n",
       "      <td>4</td>\n",
       "      <td>492271800</td>\n",
       "      <td>1710</td>\n",
       "    </tr>\n",
       "    <tr>\n",
       "      <th>997739</th>\n",
       "      <td>17101</td>\n",
       "      <td>28</td>\n",
       "      <td>1595894</td>\n",
       "      <td>492288000</td>\n",
       "      <td>1710</td>\n",
       "      <td>60.577381</td>\n",
       "      <td>10.82</td>\n",
       "      <td>42.285961</td>\n",
       "      <td>-83.733727</td>\n",
       "      <td>211.80701</td>\n",
       "      <td>11</td>\n",
       "      <td>1</td>\n",
       "      <td>4</td>\n",
       "      <td>1.58</td>\n",
       "      <td>8</td>\n",
       "      <td>492272000</td>\n",
       "      <td>1710</td>\n",
       "    </tr>\n",
       "  </tbody>\n",
       "</table>\n",
       "<p>35372 rows × 17 columns</p>\n",
       "</div>"
      ],
      "text/plain": [
       "        Device  Trip     Time    GpsTime  GpsWeek  GpsHeading  GpsSpeed  \\\n",
       "120957   10204   268    72571  506824400     1708  239.485600      7.54   \n",
       "120958   10204   268    72591  506824600     1708  239.828290      7.49   \n",
       "120959   10204   268    72612  506824800     1708  239.733800      7.42   \n",
       "120960   10204   268    72633  506825000     1708  239.743190      7.42   \n",
       "120961   10204   268    72652  506825200     1708  239.775100      7.38   \n",
       "...        ...   ...      ...        ...      ...         ...       ...   \n",
       "997735   17101    28  1595811  492287200     1710   60.193279     11.00   \n",
       "997736   17101    28  1595830  492287400     1710   60.422611     10.99   \n",
       "997737   17101    28  1595851  492287600     1710   60.365929     10.98   \n",
       "997738   17101    28  1595870  492287800     1710   60.441559     10.90   \n",
       "997739   17101    28  1595894  492288000     1710   60.577381     10.82   \n",
       "\n",
       "         Latitude  Longitude   Altitude  NumberOfSats  Differential  FixMode  \\\n",
       "120957  42.285965 -83.733940  212.93100            12             1        4   \n",
       "120958  42.285957 -83.733955  212.98801            13             1        4   \n",
       "120959  42.285954 -83.733971  213.04300            13             1        4   \n",
       "120960  42.285946 -83.733986  213.08299            13             1        4   \n",
       "120961  42.285938 -83.734001  213.12100            13             1        4   \n",
       "...           ...        ...        ...           ...           ...      ...   \n",
       "997735  42.285923 -83.733826  212.14600            11             1        4   \n",
       "997736  42.285934 -83.733803  212.07300            11             1        4   \n",
       "997737  42.285942 -83.733780  211.98599            11             1        4   \n",
       "997738  42.285954 -83.733749  211.89700            11             1        4   \n",
       "997739  42.285961 -83.733727  211.80701            11             1        4   \n",
       "\n",
       "        Pdop  GpsBytes    UtcTime  UtcWeek  \n",
       "120957  1.32         4  506808400     1708  \n",
       "120958  1.30         4  506808600     1708  \n",
       "120959  1.30         4  506808800     1708  \n",
       "120960  1.30        10  506809000     1708  \n",
       "120961  1.30         4  506809200     1708  \n",
       "...      ...       ...        ...      ...  \n",
       "997735  1.58         4  492271200     1710  \n",
       "997736  1.58         4  492271400     1710  \n",
       "997737  1.58         4  492271600     1710  \n",
       "997738  1.58         4  492271800     1710  \n",
       "997739  1.58         8  492272000     1710  \n",
       "\n",
       "[35372 rows x 17 columns]"
      ]
     },
     "execution_count": 45,
     "metadata": {},
     "output_type": "execute_result"
    }
   ],
   "source": [
    "#1.\n",
    "df = df[(df[\"Latitude\"] >= 42.282970-0.003) & (df[\"Latitude\"] <= 42.282970+0.003) \n",
    "        & (df[\"Longitude\"] >= -83.735390-0.003) & (df[\"Longitude\"] <= -83.735390+0.003)]\n",
    "\n",
    "#2.\n",
    "trips, counts = np.unique(df[\"Trip\"], return_counts=True)\n",
    "trips = trips[counts>100]\n",
    "df = df[df['Trip'].isin(trips)]\n",
    "\n",
    "#affichage du dataframe\n",
    "df"
   ]
  },
  {
   "cell_type": "markdown",
   "id": "marine-index",
   "metadata": {},
   "source": [
    "### Exploration des données"
   ]
  },
  {
   "cell_type": "markdown",
   "id": "pressed-sister",
   "metadata": {},
   "source": [
    "Quelques statistiques de base sur certaines colonnes ..."
   ]
  },
  {
   "cell_type": "code",
   "execution_count": 46,
   "id": "lasting-louis",
   "metadata": {
    "scrolled": true
   },
   "outputs": [
    {
     "data": {
      "text/html": [
       "<div>\n",
       "<style scoped>\n",
       "    .dataframe tbody tr th:only-of-type {\n",
       "        vertical-align: middle;\n",
       "    }\n",
       "\n",
       "    .dataframe tbody tr th {\n",
       "        vertical-align: top;\n",
       "    }\n",
       "\n",
       "    .dataframe thead th {\n",
       "        text-align: right;\n",
       "    }\n",
       "</style>\n",
       "<table border=\"1\" class=\"dataframe\">\n",
       "  <thead>\n",
       "    <tr style=\"text-align: right;\">\n",
       "      <th></th>\n",
       "      <th>Time</th>\n",
       "      <th>GpsHeading</th>\n",
       "      <th>GpsSpeed</th>\n",
       "      <th>Latitude</th>\n",
       "      <th>Longitude</th>\n",
       "      <th>Altitude</th>\n",
       "      <th>Pdop</th>\n",
       "    </tr>\n",
       "  </thead>\n",
       "  <tbody>\n",
       "    <tr>\n",
       "      <th>count</th>\n",
       "      <td>3.537200e+04</td>\n",
       "      <td>35372.000000</td>\n",
       "      <td>35372.000000</td>\n",
       "      <td>35372.000000</td>\n",
       "      <td>35372.000000</td>\n",
       "      <td>35372.000000</td>\n",
       "      <td>35372.000000</td>\n",
       "    </tr>\n",
       "    <tr>\n",
       "      <th>mean</th>\n",
       "      <td>4.781673e+05</td>\n",
       "      <td>211.952805</td>\n",
       "      <td>5.031042</td>\n",
       "      <td>42.282868</td>\n",
       "      <td>-83.735335</td>\n",
       "      <td>229.294582</td>\n",
       "      <td>1.914650</td>\n",
       "    </tr>\n",
       "    <tr>\n",
       "      <th>std</th>\n",
       "      <td>4.307300e+05</td>\n",
       "      <td>93.302970</td>\n",
       "      <td>4.527492</td>\n",
       "      <td>0.001508</td>\n",
       "      <td>0.001193</td>\n",
       "      <td>10.643619</td>\n",
       "      <td>2.568222</td>\n",
       "    </tr>\n",
       "    <tr>\n",
       "      <th>min</th>\n",
       "      <td>8.866000e+03</td>\n",
       "      <td>0.000200</td>\n",
       "      <td>0.000000</td>\n",
       "      <td>42.279972</td>\n",
       "      <td>-83.738380</td>\n",
       "      <td>207.424000</td>\n",
       "      <td>1.230000</td>\n",
       "    </tr>\n",
       "    <tr>\n",
       "      <th>25%</th>\n",
       "      <td>1.670110e+05</td>\n",
       "      <td>175.623400</td>\n",
       "      <td>0.150000</td>\n",
       "      <td>42.281387</td>\n",
       "      <td>-83.735771</td>\n",
       "      <td>223.694757</td>\n",
       "      <td>1.530000</td>\n",
       "    </tr>\n",
       "    <tr>\n",
       "      <th>50%</th>\n",
       "      <td>3.488350e+05</td>\n",
       "      <td>209.716710</td>\n",
       "      <td>4.610000</td>\n",
       "      <td>42.283173</td>\n",
       "      <td>-83.735550</td>\n",
       "      <td>230.304000</td>\n",
       "      <td>1.690000</td>\n",
       "    </tr>\n",
       "    <tr>\n",
       "      <th>75%</th>\n",
       "      <td>6.752512e+05</td>\n",
       "      <td>268.795043</td>\n",
       "      <td>8.440000</td>\n",
       "      <td>42.283470</td>\n",
       "      <td>-83.734573</td>\n",
       "      <td>236.293000</td>\n",
       "      <td>1.980000</td>\n",
       "    </tr>\n",
       "    <tr>\n",
       "      <th>max</th>\n",
       "      <td>1.595894e+06</td>\n",
       "      <td>359.996490</td>\n",
       "      <td>17.170000</td>\n",
       "      <td>42.285969</td>\n",
       "      <td>-83.732391</td>\n",
       "      <td>304.120000</td>\n",
       "      <td>99.989998</td>\n",
       "    </tr>\n",
       "  </tbody>\n",
       "</table>\n",
       "</div>"
      ],
      "text/plain": [
       "               Time    GpsHeading      GpsSpeed      Latitude     Longitude  \\\n",
       "count  3.537200e+04  35372.000000  35372.000000  35372.000000  35372.000000   \n",
       "mean   4.781673e+05    211.952805      5.031042     42.282868    -83.735335   \n",
       "std    4.307300e+05     93.302970      4.527492      0.001508      0.001193   \n",
       "min    8.866000e+03      0.000200      0.000000     42.279972    -83.738380   \n",
       "25%    1.670110e+05    175.623400      0.150000     42.281387    -83.735771   \n",
       "50%    3.488350e+05    209.716710      4.610000     42.283173    -83.735550   \n",
       "75%    6.752512e+05    268.795043      8.440000     42.283470    -83.734573   \n",
       "max    1.595894e+06    359.996490     17.170000     42.285969    -83.732391   \n",
       "\n",
       "           Altitude          Pdop  \n",
       "count  35372.000000  35372.000000  \n",
       "mean     229.294582      1.914650  \n",
       "std       10.643619      2.568222  \n",
       "min      207.424000      1.230000  \n",
       "25%      223.694757      1.530000  \n",
       "50%      230.304000      1.690000  \n",
       "75%      236.293000      1.980000  \n",
       "max      304.120000     99.989998  "
      ]
     },
     "execution_count": 46,
     "metadata": {},
     "output_type": "execute_result"
    }
   ],
   "source": [
    "colonnes = ['Time', 'GpsHeading', 'GpsSpeed','Latitude', 'Longitude', 'Altitude','Pdop']\n",
    "\n",
    "df[colonnes].describe()"
   ]
  },
  {
   "cell_type": "markdown",
   "id": "ahead-infrared",
   "metadata": {},
   "source": [
    "Visualisations"
   ]
  },
  {
   "cell_type": "code",
   "execution_count": 47,
   "id": "ignored-registration",
   "metadata": {},
   "outputs": [
    {
     "data": {
      "text/plain": [
       "<seaborn.axisgrid.PairGrid at 0x238a5f2d748>"
      ]
     },
     "execution_count": 47,
     "metadata": {},
     "output_type": "execute_result"
    },
    {
     "data": {
      "image/png": "[encoded data removed]",
      "text/plain": [
       "<Figure size 432x432 with 6 Axes>"
      ]
     },
     "metadata": {
      "needs_background": "light"
     },
     "output_type": "display_data"
    }
   ],
   "source": [
    "#Visualisation des colonnes Longitudes et Latitude\n",
    "sns.pairplot(df[[\"Longitude\", \"Latitude\"]], height=3)"
   ]
  },
  {
   "cell_type": "code",
   "execution_count": 48,
   "id": "junior-nursing",
   "metadata": {},
   "outputs": [
    {
     "data": {
      "text/plain": [
       "<AxesSubplot:title={'center':'Distribution de la vitesse >0.05 du GPS'}, xlabel='GpsSpeed', ylabel='Count'>"
      ]
     },
     "execution_count": 48,
     "metadata": {},
     "output_type": "execute_result"
    },
    {
     "data": {
      "image/png": "[encoded data removed]",
      "text/plain": [
       "<Figure size 864x360 with 2 Axes>"
      ]
     },
     "metadata": {
      "needs_background": "light"
     },
     "output_type": "display_data"
    }
   ],
   "source": [
    "#Distributions de la vitesse du GPS\n",
    "fig, ax =plt.subplots(1,2, figsize=(12,5))\n",
    "ax[0].set_title('Distribution de la vitesse du GPS')\n",
    "sns.histplot(df[\"GpsSpeed\"], kde=True, ax=ax[0])\n",
    "ax[1].set_title('Distribution de la vitesse >0.05 du GPS')\n",
    "sns.histplot(df.loc[df[\"GpsSpeed\"]>0.05, \"GpsSpeed\"], kde=True, ax=ax[1])"
   ]
  },
  {
   "cell_type": "code",
   "execution_count": 99,
   "id": "processed-damages",
   "metadata": {},
   "outputs": [
    {
     "data": {
      "image/png": "[encoded data removed]",
      "text/plain": [
       "<Figure size 432x288 with 1 Axes>"
      ]
     },
     "metadata": {
      "needs_background": "light"
     },
     "output_type": "display_data"
    }
   ],
   "source": [
    "#Bornes de la longitude\n",
    "longitude_min = df[\"Longitude\"].min()\n",
    "longitude_max = df[\"Longitude\"].max()\n",
    "#Bornes de la latitude\n",
    "latitude_min = df[\"Latitude\"].min()\n",
    "latitude_max = df[\"Latitude\"].max()\n",
    "#bins / nombre d'intervalles\n",
    "n_interval = 10\n",
    "#On sépare en 10 la latitude et la longitude\n",
    "x_splits = np.linspace(latitude_min,latitude_max, n_interval)\n",
    "y_splits = np.linspace(longitude_min,longitude_max, n_interval)\n",
    "\n",
    "#affichages\n",
    "plt.figure()\n",
    "\n",
    "#affichage (longitude,latitude) pour les trips\n",
    "for t in trips:\n",
    "    tr = df[df[\"Trip\"]==t]\n",
    "    plt.scatter(tr[\"Longitude\"],tr[\"Latitude\"])\n",
    "\n",
    "#affichage grille\n",
    "for i in range(n_interval):\n",
    "    x = x_splits[i]\n",
    "    y = y_splits[i]\n",
    "    plt.plot([longitude_min, longitude_max],[x,x], c='grey',  alpha = 0.5)\n",
    "    plt.plot([y,y],[latitude_min,latitude_max], c='grey', alpha = 0.5)\n",
    "    \n",
    "plt.show()"
   ]
  },
  {
   "cell_type": "code",
   "execution_count": 103,
   "id": "sunset-pastor",
   "metadata": {},
   "outputs": [
    {
     "data": {
      "image/png": "[encoded data removed]",
      "text/plain": [
       "<Figure size 432x288 with 2 Axes>"
      ]
     },
     "metadata": {
      "needs_background": "light"
     },
     "output_type": "display_data"
    }
   ],
   "source": [
    "#faux, à revoir plus tard\n",
    "colonnes = [\"GpsSpeed\", \"Longitude\", \"Latitude\"]\n",
    "\n",
    "p = plt.scatter(df[\"Longitude\"], df[\"Latitude\"], c=df[\"GpsSpeed\"], cmap=\"YlOrRd\")\n",
    "cbar = plt.colorbar(p)\n",
    "cbar.set_label('Vitesse')"
   ]
  },
  {
   "cell_type": "code",
   "execution_count": null,
   "id": "imported-mounting",
   "metadata": {},
   "outputs": [],
   "source": []
  },
  {
   "cell_type": "code",
   "execution_count": 50,
   "id": "weekly-marathon",
   "metadata": {},
   "outputs": [],
   "source": [
    "# modele physique\n",
    "def nextpos(pos, alpha, v):\n",
    "    return pos + alpha * v\n",
    "\n",
    "datax = df.to_numpy()[:,7:9]"
   ]
  },
  {
   "cell_type": "code",
   "execution_count": 51,
   "id": "valued-market",
   "metadata": {},
   "outputs": [
    {
     "data": {
      "text/plain": [
       "Index(['Latitude', 'Longitude'], dtype='object')"
      ]
     },
     "execution_count": 51,
     "metadata": {},
     "output_type": "execute_result"
    }
   ],
   "source": [
    "df.columns[7:9]"
   ]
  },
  {
   "cell_type": "code",
   "execution_count": 52,
   "id": "vital-witch",
   "metadata": {},
   "outputs": [],
   "source": [
    "def split_plan(df, n_interval):\n",
    "    data = df.to_numpy() \n",
    "    # unpack dimension\n",
    "    M, N = n_interval\n",
    "    ub_x = data[:,1].max()\n",
    "    lb_x = data[:,1].min()\n",
    "    gap_x = (ub_x-lb_x)/M\n",
    "    ub_y = data[:,2].max()\n",
    "    lb_y = data[:,2].min()\n",
    "    gap_y = (ub_y-lb_y)/N\n",
    "    intervals_x = [lb_x + gap_x*k for k in range(1,M)]\n",
    "    intervals_y = [lb_y + gap_y*k for k in range(1,N)]\n",
    "    return intervals_x, intervals_y\n",
    "\n",
    "def affectation(datax, intervals_x, intervals_y):\n",
    "    M, N = datax.shape\n",
    "    for i in range(M):\n",
    "        x, y = datax[i,:]\n",
    "        datax[i] = np.argmax(intervals_x>x), np.argmax(intervals_y>y)\n",
    "    return datax\n",
    "\n",
    "inter_x, inter_y = split_plan(df, (1000,2000))\n",
    "raw_datay = affectation(datax, inter_x, inter_y)"
   ]
  },
  {
   "cell_type": "code",
   "execution_count": 53,
   "id": "behind-swedish",
   "metadata": {},
   "outputs": [
    {
     "ename": "SyntaxError",
     "evalue": "invalid syntax (<ipython-input-53-1527949ac937>, line 12)",
     "output_type": "error",
     "traceback": [
      "\u001b[1;36m  File \u001b[1;32m\"<ipython-input-53-1527949ac937>\"\u001b[1;36m, line \u001b[1;32m12\u001b[0m\n\u001b[1;33m    data[y] =\u001b[0m\n\u001b[1;37m              ^\u001b[0m\n\u001b[1;31mSyntaxError\u001b[0m\u001b[1;31m:\u001b[0m invalid syntax\n"
     ]
    }
   ],
   "source": [
    "def to_labeled_points(raw_datay):\n",
    "    # [0, 1, 2, 3, 4, 5, 6, 7, 8]\n",
    "    #  rest, droite, hautdroite, haut, hautgauche, gauche, basgauche, bas, basdroite\n",
    "    M = len(raw_datay)\n",
    "    datay = np.zeros(M)\n",
    "    for i in range(M):\n",
    "        diff = (raw_datay[i+1] - raw_datay[i])\n",
    "        if diff[0]>0:\n",
    "            if diff[1]>0:\n",
    "                grad = diff[1]/diff[0]\n",
    "                if grad > 1:\n",
    "                    data[y] = \n",
    "            \n",
    "        else:\n",
    "\n",
    "        datay[i] = datay[i,1]/datay[i,0]\n",
    "\n",
    "    return data"
   ]
  }
 ],
 "metadata": {
  "kernelspec": {
   "display_name": "Python 3",
   "language": "python",
   "name": "python3"
  },
  "language_info": {
   "codemirror_mode": {
    "name": "ipython",
    "version": 3
   },
   "file_extension": ".py",
   "mimetype": "text/x-python",
   "name": "python",
   "nbconvert_exporter": "python",
   "pygments_lexer": "ipython3",
   "version": "3.7.9"
  }
 },
 "nbformat": 4,
 "nbformat_minor": 5
}
